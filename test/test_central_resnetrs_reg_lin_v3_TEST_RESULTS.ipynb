{
 "cells": [
  {
   "cell_type": "code",
   "execution_count": 1,
   "id": "251cb475",
   "metadata": {},
   "outputs": [],
   "source": [
    "import glob\n",
    "import matplotlib.pyplot as plt\n",
    "import numpy as np\n",
    "import os\n",
    "import pandas as pd\n",
    "from PIL import Image\n",
    "import scipy.io as sio\n",
    "import seaborn as sns\n",
    "from sklearn.metrics import cohen_kappa_score, confusion_matrix, precision_recall_fscore_support\n",
    "import timm\n",
    "from tqdm import tqdm"
   ]
  },
  {
   "cell_type": "code",
   "execution_count": 2,
   "id": "7e00fb2b",
   "metadata": {},
   "outputs": [],
   "source": [
    "import torch\n",
    "import torch.nn as nn \n",
    "from torchsummary import summary\n",
    "from torch.utils.data import Dataset, DataLoader\n"
   ]
  },
  {
   "cell_type": "code",
   "execution_count": 3,
   "id": "adad5c6c",
   "metadata": {},
   "outputs": [
    {
     "data": {
      "text/plain": [
       "device(type='cuda')"
      ]
     },
     "execution_count": 3,
     "metadata": {},
     "output_type": "execute_result"
    }
   ],
   "source": [
    "device = torch.device(\"cuda\" if torch.cuda.is_available() else \"cpu\")\n",
    "device"
   ]
  },
  {
   "cell_type": "code",
   "execution_count": 4,
   "id": "beb29f5b",
   "metadata": {},
   "outputs": [],
   "source": [
    "sep = '\\\\' if os.name == 'nt' else '/'"
   ]
  },
  {
   "cell_type": "code",
   "execution_count": 5,
   "id": "a4909720",
   "metadata": {},
   "outputs": [],
   "source": [
    "hiperparametros = {\n",
    "    'epocas' : 150,\n",
    "    'lr' : 0.001,\n",
    "    'batch_size' : 64,\n",
    "    'seed' : 56389856,\n",
    "    'dropout' : 0.1\n",
    "}\n"
   ]
  },
  {
   "cell_type": "code",
   "execution_count": 6,
   "id": "c2576ff6",
   "metadata": {},
   "outputs": [],
   "source": [
    "path_thorres = 'D:/MSc/img_bispectrum/test/bisp_thorres/'\n",
    "path_abdo = 'D:/MSc/img_bispectrum/test/bisp_abdo/'\n",
    "path_labels = 'D:/MSc/img_bispectrum/test/labels_img/'\n"
   ]
  },
  {
   "cell_type": "code",
   "execution_count": 7,
   "id": "1a4e80cb",
   "metadata": {},
   "outputs": [],
   "source": [
    "files_thorres = glob.glob(path_thorres + '*')\n",
    "files_abdo = glob.glob(path_abdo + '*')\n",
    "files_labels = glob.glob(path_labels + '*')"
   ]
  },
  {
   "cell_type": "code",
   "execution_count": 8,
   "id": "8e24b7ea",
   "metadata": {},
   "outputs": [
    {
     "data": {
      "text/plain": [
       "(135366, 135366, 5000)"
      ]
     },
     "execution_count": 8,
     "metadata": {},
     "output_type": "execute_result"
    }
   ],
   "source": [
    "len(files_thorres), len(files_abdo), len(files_labels)"
   ]
  },
  {
   "cell_type": "code",
   "execution_count": 9,
   "id": "a7e5938d",
   "metadata": {},
   "outputs": [],
   "source": [
    "def search_and_order_files_of_subject(subject_name, files):\n",
    "    \n",
    "    lst = [path for path in files if subject_name in path]\n",
    "    lista = [(path, eval(path.split('_')[-1].split('.')[0])) for path in lst]\n",
    "    ordered_list = sorted(lista,  key=lambda x: x[1])\n",
    "    \n",
    "    return [element[0] for element in ordered_list]"
   ]
  },
  {
   "cell_type": "code",
   "execution_count": 11,
   "id": "f87d936c",
   "metadata": {},
   "outputs": [],
   "source": [
    "def open_subject_labels(path):\n",
    "    \n",
    "    data = sio.loadmat(path)\n",
    "    n_segments = data.get('n_segments')\n",
    "    y_central_data = data.get('vec_all_central')\n",
    "    y_hypopnea_data = data.get('vec_all_hypo')\n",
    "    y_osa_data = data.get('vec_all_osa')\n",
    "    y_events_data = data.get('vec_all_events')\n",
    "    n_segments = data.get('n_segments')\n",
    "    \n",
    "    return y_central_data.squeeze(), y_hypopnea_data.squeeze(), y_osa_data.squeeze(), y_events_data.squeeze(), n_segments"
   ]
  },
  {
   "cell_type": "code",
   "execution_count": 12,
   "id": "2f3176e6",
   "metadata": {},
   "outputs": [],
   "source": [
    "class MyDatasetTest(Dataset):\n",
    "    def __init__(self, label, subject_images_thorres, subject_images_abdo, y_events, y_central, y_osa, y_hypo) -> None:\n",
    "        self.label = label\n",
    "        self.subject_images_thorres = subject_images_thorres\n",
    "        self.subject_images_abdo = subject_images_abdo\n",
    "        self.y_events = y_events\n",
    "        self.y_central = y_central\n",
    "        self.y_osa = y_osa\n",
    "        self.y_hypo = y_hypo\n",
    "        \n",
    "    def __getitem__(self, index):\n",
    "        name_ind = self.label\n",
    "        x_torres_ind = self.subject_images_thorres[index]\n",
    "        x_abdo_ind = self.subject_images_abdo[index]\n",
    "        y_events_ind = self.y_events[index]\n",
    "        y_central_ind = self.y_central[index]\n",
    "        y_hypo_ind = self.y_hypo[index]\n",
    "        y_osa_ind = self.y_osa[index]\n",
    "\n",
    "        thorres = torch.from_numpy(np.moveaxis(x_torres_ind / 255, -1, 0))\n",
    "        abdores = torch.from_numpy(np.moveaxis(x_abdo_ind / 255, -1, 0))\n",
    "        \n",
    "        x = torch.cat([thorres, abdores], axis = 0)\n",
    "        \n",
    "        y = torch.Tensor([y_central_ind]).float()\n",
    "\n",
    "        return x, y, name_ind\n",
    "\n",
    "    def __len__(self):\n",
    "        return len(self.subject_images_thorres)"
   ]
  },
  {
   "cell_type": "code",
   "execution_count": 13,
   "id": "83e2a0a6",
   "metadata": {},
   "outputs": [
    {
     "data": {
      "text/plain": [
       "<All keys matched successfully>"
      ]
     },
     "execution_count": 13,
     "metadata": {},
     "output_type": "execute_result"
    }
   ],
   "source": [
    "model = timm.create_model('timm/resnetrs50.tf_in1k', pretrained=True, num_classes = 1, in_chans = 6).to(device)\n",
    "model.load_state_dict(torch.load('C:/Users/marta/Desktop/TFM/test/regresion_CENTRAL_resnet18_propio_reg_lin_ResNetRS.pth'))"
   ]
  },
  {
   "cell_type": "code",
   "execution_count": 14,
   "id": "59632c63",
   "metadata": {},
   "outputs": [],
   "source": [
    "criterion = torch.nn.HuberLoss(reduction= \"mean\")"
   ]
  },
  {
   "cell_type": "code",
   "execution_count": 15,
   "id": "eae0358d",
   "metadata": {},
   "outputs": [],
   "source": [
    "def get_AHI_pred_real(outputs, labels):\n",
    "    AHI_pred = sum(outputs)/len(outputs)*3\n",
    "    AHI_real = sum(labels)/len(labels)*3\n",
    "    \n",
    "    return AHI_pred, AHI_real"
   ]
  },
  {
   "cell_type": "code",
   "execution_count": 42,
   "id": "dc01aa16",
   "metadata": {},
   "outputs": [],
   "source": [
    "df = pd.DataFrame(columns = ['Name', 'AHI_pred', 'AHI_real', 'loss_test'])"
   ]
  },
  {
   "cell_type": "code",
   "execution_count": 43,
   "id": "75ceef3b",
   "metadata": {},
   "outputs": [
    {
     "name": "stderr",
     "output_type": "stream",
     "text": [
      "100%|████████████████████████████████████████████████████████████████████████████| 5000/5000 [3:07:41<00:00,  2.25s/it]\n"
     ]
    }
   ],
   "source": [
    "for label in tqdm(files_labels):\n",
    "    subject_name = label.split(sep)[-1].split('_')[1]\n",
    "    subject_files_thorres = search_and_order_files_of_subject(subject_name, files_thorres)\n",
    "    subject_files_abdo = search_and_order_files_of_subject(subject_name, files_abdo)\n",
    "    subject_images_thorres = [np.array(Image.open(path)) for path in subject_files_thorres]\n",
    "    subject_images_abdo = [np.array(Image.open(path)) for path in subject_files_abdo]\n",
    "    y_central_data, y_hypopnea_data, y_osa_data, y_events_data, n_segments = open_subject_labels(label)\n",
    "\n",
    "    dataset = MyDatasetTest(label, subject_images_thorres, subject_images_abdo,\n",
    "                            y_events_data, y_central_data, y_osa_data, y_hypopnea_data)\n",
    "\n",
    "    dataloader = DataLoader(dataset, batch_size= hiperparametros['batch_size'], shuffle= True)\n",
    "\n",
    "    model.eval()    \n",
    "    with torch.no_grad():\n",
    "        for data in dataloader:\n",
    "            inputs, labels, names = data[0].to(device, dtype=torch.float32), data[1].to(device), data[2]\n",
    "            outputs = model(inputs)\n",
    "            loss_val = criterion(outputs, labels)\n",
    "            loss_medio_test = loss_val.item()\n",
    "            AHI_pred_test, AHI_real_test = get_AHI_pred_real(outputs, labels)\n",
    "\n",
    "\n",
    "    new_row = pd.DataFrame([[label.split('\\\\')[-1].split('_')[1], AHI_pred_test.item(), \n",
    "                             AHI_real_test.item(), loss_medio_test]], \n",
    "                           columns = ['Name', 'AHI_pred', 'AHI_real', 'loss_test'])\n",
    "    \n",
    "    \n",
    "    df = pd.concat([df, new_row])\n",
    "    \n",
    "    "
   ]
  },
  {
   "cell_type": "code",
   "execution_count": 44,
   "id": "c36e81ba",
   "metadata": {
    "scrolled": true
   },
   "outputs": [
    {
     "data": {
      "text/html": [
       "<div>\n",
       "<style scoped>\n",
       "    .dataframe tbody tr th:only-of-type {\n",
       "        vertical-align: middle;\n",
       "    }\n",
       "\n",
       "    .dataframe tbody tr th {\n",
       "        vertical-align: top;\n",
       "    }\n",
       "\n",
       "    .dataframe thead th {\n",
       "        text-align: right;\n",
       "    }\n",
       "</style>\n",
       "<table border=\"1\" class=\"dataframe\">\n",
       "  <thead>\n",
       "    <tr style=\"text-align: right;\">\n",
       "      <th></th>\n",
       "      <th>Name</th>\n",
       "      <th>AHI_pred</th>\n",
       "      <th>AHI_real</th>\n",
       "      <th>loss_test</th>\n",
       "    </tr>\n",
       "  </thead>\n",
       "  <tbody>\n",
       "    <tr>\n",
       "      <th>0</th>\n",
       "      <td>shhs1-200078</td>\n",
       "      <td>0.1381</td>\n",
       "      <td>0.391304</td>\n",
       "      <td>0.05782</td>\n",
       "    </tr>\n",
       "    <tr>\n",
       "      <th>0</th>\n",
       "      <td>shhs1-200079</td>\n",
       "      <td>0.133989</td>\n",
       "      <td>0.130435</td>\n",
       "      <td>0.019737</td>\n",
       "    </tr>\n",
       "    <tr>\n",
       "      <th>0</th>\n",
       "      <td>shhs1-200081</td>\n",
       "      <td>0.191422</td>\n",
       "      <td>0.115385</td>\n",
       "      <td>0.020258</td>\n",
       "    </tr>\n",
       "    <tr>\n",
       "      <th>0</th>\n",
       "      <td>shhs1-200086</td>\n",
       "      <td>0.133317</td>\n",
       "      <td>0.0</td>\n",
       "      <td>0.001686</td>\n",
       "    </tr>\n",
       "    <tr>\n",
       "      <th>0</th>\n",
       "      <td>shhs1-200088</td>\n",
       "      <td>0.288544</td>\n",
       "      <td>0.272727</td>\n",
       "      <td>0.065161</td>\n",
       "    </tr>\n",
       "    <tr>\n",
       "      <th>...</th>\n",
       "      <td>...</td>\n",
       "      <td>...</td>\n",
       "      <td>...</td>\n",
       "      <td>...</td>\n",
       "    </tr>\n",
       "    <tr>\n",
       "      <th>0</th>\n",
       "      <td>shhs2-205785</td>\n",
       "      <td>0.187984</td>\n",
       "      <td>0.206897</td>\n",
       "      <td>0.026689</td>\n",
       "    </tr>\n",
       "    <tr>\n",
       "      <th>0</th>\n",
       "      <td>shhs2-205786</td>\n",
       "      <td>1.301675</td>\n",
       "      <td>4.354838</td>\n",
       "      <td>0.93806</td>\n",
       "    </tr>\n",
       "    <tr>\n",
       "      <th>0</th>\n",
       "      <td>shhs2-205796</td>\n",
       "      <td>0.401657</td>\n",
       "      <td>0.107143</td>\n",
       "      <td>0.048526</td>\n",
       "    </tr>\n",
       "    <tr>\n",
       "      <th>0</th>\n",
       "      <td>shhs2-205798</td>\n",
       "      <td>0.181758</td>\n",
       "      <td>0.636364</td>\n",
       "      <td>0.162547</td>\n",
       "    </tr>\n",
       "    <tr>\n",
       "      <th>0</th>\n",
       "      <td>shhs2-205800</td>\n",
       "      <td>0.470643</td>\n",
       "      <td>0.5625</td>\n",
       "      <td>0.107887</td>\n",
       "    </tr>\n",
       "  </tbody>\n",
       "</table>\n",
       "<p>5000 rows × 4 columns</p>\n",
       "</div>"
      ],
      "text/plain": [
       "            Name  AHI_pred  AHI_real loss_test\n",
       "0   shhs1-200078    0.1381  0.391304   0.05782\n",
       "0   shhs1-200079  0.133989  0.130435  0.019737\n",
       "0   shhs1-200081  0.191422  0.115385  0.020258\n",
       "0   shhs1-200086  0.133317       0.0  0.001686\n",
       "0   shhs1-200088  0.288544  0.272727  0.065161\n",
       "..           ...       ...       ...       ...\n",
       "0   shhs2-205785  0.187984  0.206897  0.026689\n",
       "0   shhs2-205786  1.301675  4.354838   0.93806\n",
       "0   shhs2-205796  0.401657  0.107143  0.048526\n",
       "0   shhs2-205798  0.181758  0.636364  0.162547\n",
       "0   shhs2-205800  0.470643    0.5625  0.107887\n",
       "\n",
       "[5000 rows x 4 columns]"
      ]
     },
     "execution_count": 44,
     "metadata": {},
     "output_type": "execute_result"
    }
   ],
   "source": [
    "df"
   ]
  },
  {
   "cell_type": "markdown",
   "id": "71680e8c",
   "metadata": {},
   "source": [
    "## Ajuste de la regresión lineal"
   ]
  },
  {
   "cell_type": "code",
   "execution_count": 45,
   "id": "82f0172c",
   "metadata": {},
   "outputs": [],
   "source": [
    "import json"
   ]
  },
  {
   "cell_type": "code",
   "execution_count": 46,
   "id": "8782b779",
   "metadata": {},
   "outputs": [],
   "source": [
    "with open('C:/Users/marta/Desktop/TFM/test/coefs_regresion_CENTRAL_resnet18_propio_reg_lin_ResNetRS.txt') as f:\n",
    "    data = f.read()"
   ]
  },
  {
   "cell_type": "code",
   "execution_count": 47,
   "id": "208422a4",
   "metadata": {},
   "outputs": [],
   "source": [
    "coefs = json.loads(data)"
   ]
  },
  {
   "cell_type": "code",
   "execution_count": 48,
   "id": "6e37b109",
   "metadata": {},
   "outputs": [],
   "source": [
    "AHI_pred_reg = coefs['intercept']+coefs['coef']*df.AHI_pred"
   ]
  },
  {
   "cell_type": "code",
   "execution_count": 92,
   "id": "daa898a2",
   "metadata": {},
   "outputs": [
    {
     "data": {
      "text/plain": [
       "0    0.281713\n",
       "0    0.276293\n",
       "0    0.352015\n",
       "0    0.275407\n",
       "0    0.480064\n",
       "       ...   \n",
       "0    0.347483\n",
       "0    1.815816\n",
       "0    0.629197\n",
       "0    0.339273\n",
       "0     0.72015\n",
       "Name: AHI_pred, Length: 5000, dtype: object"
      ]
     },
     "execution_count": 92,
     "metadata": {},
     "output_type": "execute_result"
    }
   ],
   "source": [
    "AHI_pred_reg"
   ]
  },
  {
   "cell_type": "code",
   "execution_count": 93,
   "id": "88abc2ef",
   "metadata": {},
   "outputs": [],
   "source": [
    "df_reg = df"
   ]
  },
  {
   "cell_type": "code",
   "execution_count": 94,
   "id": "b9c16f71",
   "metadata": {},
   "outputs": [],
   "source": [
    "df_reg.loc[:, 'AHI_pred_reg'] = AHI_pred_reg"
   ]
  },
  {
   "cell_type": "code",
   "execution_count": 95,
   "id": "fc27fafb",
   "metadata": {},
   "outputs": [
    {
     "data": {
      "text/html": [
       "<div>\n",
       "<style scoped>\n",
       "    .dataframe tbody tr th:only-of-type {\n",
       "        vertical-align: middle;\n",
       "    }\n",
       "\n",
       "    .dataframe tbody tr th {\n",
       "        vertical-align: top;\n",
       "    }\n",
       "\n",
       "    .dataframe thead th {\n",
       "        text-align: right;\n",
       "    }\n",
       "</style>\n",
       "<table border=\"1\" class=\"dataframe\">\n",
       "  <thead>\n",
       "    <tr style=\"text-align: right;\">\n",
       "      <th></th>\n",
       "      <th>Name</th>\n",
       "      <th>AHI_pred</th>\n",
       "      <th>AHI_real</th>\n",
       "      <th>loss_test</th>\n",
       "      <th>AHI_pred_reg</th>\n",
       "    </tr>\n",
       "  </thead>\n",
       "  <tbody>\n",
       "    <tr>\n",
       "      <th>0</th>\n",
       "      <td>shhs1-200078</td>\n",
       "      <td>0.1381</td>\n",
       "      <td>0.391304</td>\n",
       "      <td>0.05782</td>\n",
       "      <td>0.281713</td>\n",
       "    </tr>\n",
       "    <tr>\n",
       "      <th>0</th>\n",
       "      <td>shhs1-200079</td>\n",
       "      <td>0.133989</td>\n",
       "      <td>0.130435</td>\n",
       "      <td>0.019737</td>\n",
       "      <td>0.276293</td>\n",
       "    </tr>\n",
       "    <tr>\n",
       "      <th>0</th>\n",
       "      <td>shhs1-200081</td>\n",
       "      <td>0.191422</td>\n",
       "      <td>0.115385</td>\n",
       "      <td>0.020258</td>\n",
       "      <td>0.352015</td>\n",
       "    </tr>\n",
       "  </tbody>\n",
       "</table>\n",
       "</div>"
      ],
      "text/plain": [
       "           Name  AHI_pred  AHI_real loss_test AHI_pred_reg\n",
       "0  shhs1-200078    0.1381  0.391304   0.05782     0.281713\n",
       "0  shhs1-200079  0.133989  0.130435  0.019737     0.276293\n",
       "0  shhs1-200081  0.191422  0.115385  0.020258     0.352015"
      ]
     },
     "execution_count": 95,
     "metadata": {},
     "output_type": "execute_result"
    }
   ],
   "source": [
    "df_reg.head(3)"
   ]
  },
  {
   "cell_type": "code",
   "execution_count": 96,
   "id": "438cba9a",
   "metadata": {},
   "outputs": [],
   "source": [
    "df_reg.to_csv('C:/Users/marta/Desktop/TFM/test/df_central_resnetrs_WITH_REGRESSION.csv')  "
   ]
  },
  {
   "cell_type": "code",
   "execution_count": 49,
   "id": "48752ee3",
   "metadata": {},
   "outputs": [],
   "source": []
  },
  {
   "cell_type": "code",
   "execution_count": 51,
   "id": "b7579f8d",
   "metadata": {},
   "outputs": [],
   "source": [
    "AHI_pred_disc = np.digitize(AHI_pred_reg, bins = np.array([5,15,30]))\n",
    "AHI_real_disc = np.digitize(df.AHI_real, bins = np.array([5,15,30]))"
   ]
  },
  {
   "cell_type": "code",
   "execution_count": 52,
   "id": "13db06d7",
   "metadata": {},
   "outputs": [
    {
     "name": "stdout",
     "output_type": "stream",
     "text": [
      "Kappa:  0.29662716593662164\n",
      "Accuracy:  0.9782\n"
     ]
    }
   ],
   "source": [
    "kappa = cohen_kappa_score(AHI_pred_disc, AHI_real_disc)\n",
    "accuracy = sum(AHI_pred_disc == AHI_real_disc).item()/len(AHI_real_disc)  \n",
    "print('Kappa: ', kappa)\n",
    "print('Accuracy: ', accuracy)"
   ]
  },
  {
   "cell_type": "code",
   "execution_count": null,
   "id": "7b776662",
   "metadata": {},
   "outputs": [],
   "source": []
  },
  {
   "cell_type": "code",
   "execution_count": 53,
   "id": "febfbfc9",
   "metadata": {},
   "outputs": [],
   "source": [
    "def sens_especif_mat_conf_por_clases_inferiores(AHI_real_disc_, AHI_pred_disc_, clase):\n",
    "    FP = sum(AHI_pred_disc_[AHI_real_disc_ > clase] <= clase)\n",
    "    TP = sum(AHI_pred_disc_[AHI_real_disc_ <= clase] <= clase)\n",
    "    TN = sum(AHI_pred_disc_[AHI_real_disc_ > clase] > clase)\n",
    "    FN = sum(AHI_pred_disc_[AHI_real_disc_ <= clase] > clase)\n",
    "    sensibilidad = TP/(TP + FN)\n",
    "    especifidad = TN/(TN + FP)\n",
    "    VPP = TP/(TP + FP)\n",
    "    VPN = TN/(TN + FN)\n",
    "    \n",
    "    AHI_real_disc_clase = np.copy(AHI_real_disc_)\n",
    "    AHI_real_disc_clase[AHI_real_disc_clase > clase] = 100\n",
    "    AHI_real_disc_clase[AHI_real_disc_clase <= clase] = 0\n",
    "\n",
    "    AHI_pred_disc_clase = np.copy(AHI_pred_disc_)\n",
    "    AHI_pred_disc_clase[AHI_pred_disc_clase > clase] = 100\n",
    "    AHI_pred_disc_clase[AHI_pred_disc_clase <= clase] = 0\n",
    "    \n",
    "    best_cfmatrix_val_clase = confusion_matrix(AHI_real_disc_clase, AHI_pred_disc_clase)\n",
    "    \n",
    "    group_counts = [\"{0:0.0f}\".format(value) for value in\n",
    "                best_cfmatrix_val_clase.flatten()]\n",
    "\n",
    "    group_percentages = [\"{0:.2%}\".format(value) for value in\n",
    "                         best_cfmatrix_val_clase.flatten()/np.sum(best_cfmatrix_val_clase)]\n",
    "\n",
    "    labels = [f\"{v1}\\n{v2}\\n\" for v1, v2 in\n",
    "              zip(group_counts,group_percentages)]\n",
    "\n",
    "    labels = np.asarray(labels).reshape(2,2)\n",
    "\n",
    "    plt.rcdefaults()\n",
    "    sns.set(font_scale=1.4)\n",
    "    sns.set(rc = {'figure.figsize':(5,4)})\n",
    "\n",
    "    sns.heatmap(best_cfmatrix_val_clase, annot=labels, annot_kws={\"size\": 14}, fmt='',  cmap='Blues')\n",
    "\n",
    "    plt.title(\"\\n Matriz de confusión\")\n",
    "    plt.xlabel(\"Estimado \\n \\n \\n\")\n",
    "    plt.ylabel(\"\\n \\n Real\")\n",
    "    plt.show()\n",
    "    plt.clf()\n",
    "    plt.close()\n",
    "\n",
    "    return sensibilidad, especifidad, VPP, VPN"
   ]
  },
  {
   "cell_type": "code",
   "execution_count": 54,
   "id": "42b84387",
   "metadata": {},
   "outputs": [],
   "source": [
    "def sens_especif_mat_conf_por_clases(AHI_real_disc_, AHI_pred_disc_, clase):\n",
    "    FP = sum(AHI_pred_disc_[AHI_real_disc_ == clase] == clase)\n",
    "    TP = sum(AHI_pred_disc_[AHI_real_disc_ <= clase] == clase)\n",
    "    TN = sum(AHI_pred_disc_[AHI_real_disc_ == clase] != clase)\n",
    "    FN = sum(AHI_pred_disc_[AHI_real_disc_ <= clase] != clase)\n",
    "    sensibilidad = TP/(TP + FN)\n",
    "    especifidad = TN/(TN + FP)\n",
    "    VPP = TP/(TP + FP)\n",
    "    VPN = TN/(TN + FN)\n",
    "    \n",
    "    AHI_real_disc_clase = np.copy(AHI_real_disc_)\n",
    "    AHI_real_disc_clase[AHI_real_disc_clase != clase] = 100\n",
    "\n",
    "    AHI_pred_disc_clase = np.copy(AHI_pred_disc_)\n",
    "    AHI_pred_disc_clase[AHI_pred_disc_clase != clase] = 100\n",
    "    \n",
    "    best_cfmatrix_val_clase = confusion_matrix(AHI_real_disc_clase, AHI_pred_disc_clase)\n",
    "    \n",
    "    group_counts = [\"{0:0.0f}\".format(value) for value in\n",
    "                best_cfmatrix_val_clase.flatten()]\n",
    "\n",
    "    group_percentages = [\"{0:.2%}\".format(value) for value in\n",
    "                         best_cfmatrix_val_clase.flatten()/np.sum(best_cfmatrix_val_clase)]\n",
    "\n",
    "    labels = [f\"{v1}\\n{v2}\\n\" for v1, v2 in\n",
    "              zip(group_counts,group_percentages)]\n",
    "\n",
    "    labels = np.asarray(labels).reshape(2,2)\n",
    "\n",
    "    plt.rcdefaults()\n",
    "    sns.set(font_scale=1.4)\n",
    "    sns.set(rc = {'figure.figsize':(5,4)})\n",
    "\n",
    "    sns.heatmap(best_cfmatrix_val_clase, annot=labels, annot_kws={\"size\": 14}, fmt='',  cmap='Blues')\n",
    "\n",
    "    plt.title(\"\\n Matriz de confusión\")\n",
    "    plt.xlabel(\"Estimado \\n \\n \\n\")\n",
    "    plt.ylabel(\"\\n \\n Real\")\n",
    "    plt.show()\n",
    "    plt.clf()\n",
    "    plt.close()\n",
    "\n",
    "    return sensibilidad, especifidad, VPP, VPN"
   ]
  },
  {
   "cell_type": "code",
   "execution_count": null,
   "id": "9a641991",
   "metadata": {},
   "outputs": [],
   "source": []
  },
  {
   "cell_type": "markdown",
   "id": "3c4a862a",
   "metadata": {},
   "source": [
    "# Cálculo de la sensibilidad, especifidad, VPP y VPN por clases"
   ]
  },
  {
   "cell_type": "code",
   "execution_count": 56,
   "id": "8220e72c",
   "metadata": {},
   "outputs": [
    {
     "data": {
      "image/png": "[encoded data removed]",
      "text/plain": [
       "<Figure size 432x288 with 2 Axes>"
      ]
     },
     "metadata": {
      "needs_background": "light"
     },
     "output_type": "display_data"
    },
    {
     "name": "stdout",
     "output_type": "stream",
     "text": [
      "Sensibilidad =  0.9934747145187602\n",
      "Especifidad =  0.0065252854812398045\n",
      "VPP =  0.5\n",
      "VPN =  0.5\n"
     ]
    }
   ],
   "source": [
    "try:\n",
    "    sensibilidad_0, especifidad_0, VPP_0, VPN_0 = sens_especif_mat_conf_por_clases(AHI_real_disc, AHI_pred_disc, 0)\n",
    "    print(\"Sensibilidad = \", sensibilidad_0)\n",
    "    print(\"Especifidad = \", especifidad_0)\n",
    "    print(\"VPP = \", VPP_0)\n",
    "    print(\"VPN = \", VPN_0)\n",
    "except ZeroDivisionError:\n",
    "    pass\n"
   ]
  },
  {
   "cell_type": "code",
   "execution_count": 57,
   "id": "018283ec",
   "metadata": {},
   "outputs": [
    {
     "data": {
      "image/png": "[encoded data removed]",
      "text/plain": [
       "<Figure size 500x400 with 2 Axes>"
      ]
     },
     "metadata": {},
     "output_type": "display_data"
    },
    {
     "name": "stdout",
     "output_type": "stream",
     "text": [
      "Sensibilidad =  0.00944154278826838\n",
      "Especifidad =  0.7567567567567568\n",
      "VPP =  0.7230769230769231\n",
      "VPN =  0.011229195909364347\n"
     ]
    }
   ],
   "source": [
    "try:\n",
    "    sensibilidad_1, especifidad_1, VPP_1, VPN_1 = sens_especif_mat_conf_por_clases(AHI_real_disc, AHI_pred_disc, 1)\n",
    "    print(\"Sensibilidad = \", sensibilidad_1)\n",
    "    print(\"Especifidad = \", especifidad_1)\n",
    "    print(\"VPP = \", VPP_1)\n",
    "    print(\"VPN = \", VPN_1)\n",
    "except ZeroDivisionError:\n",
    "    pass"
   ]
  },
  {
   "cell_type": "code",
   "execution_count": 58,
   "id": "dee5552f",
   "metadata": {},
   "outputs": [
    {
     "data": {
      "image/png": "[encoded data removed]",
      "text/plain": [
       "<Figure size 500x400 with 2 Axes>"
      ]
     },
     "metadata": {},
     "output_type": "display_data"
    },
    {
     "name": "stdout",
     "output_type": "stream",
     "text": [
      "Sensibilidad =  0.0008\n",
      "Especifidad =  0.9545454545454546\n",
      "VPP =  0.8\n",
      "VPN =  0.004185768387482559\n"
     ]
    }
   ],
   "source": [
    "try:\n",
    "    sensibilidad_2, especifidad_2, VPP_2, VPN_2 = sens_especif_mat_conf_por_clases(AHI_real_disc, AHI_pred_disc, 2)\n",
    "    print(\"Sensibilidad = \", sensibilidad_2)\n",
    "    print(\"Especifidad = \", especifidad_2)\n",
    "    print(\"VPP = \", VPP_2)\n",
    "    print(\"VPN = \", VPN_2)\n",
    "except ZeroDivisionError:\n",
    "    pass"
   ]
  },
  {
   "cell_type": "code",
   "execution_count": 59,
   "id": "8084bb65",
   "metadata": {},
   "outputs": [],
   "source": [
    "try:\n",
    "    sensibilidad_3, especifidad_3, VPP_3, VPN_3 = sens_especif_mat_conf_por_clases(AHI_real_disc, AHI_pred_disc, 3)\n",
    "    print(\"Sensibilidad = \", sensibilidad_3)\n",
    "    print(\"Especifidad = \", especifidad_3)\n",
    "    print(\"VPP = \", VPP_3)\n",
    "    print(\"VPN = \", VPN_3)\n",
    "except ZeroDivisionError:\n",
    "    pass"
   ]
  },
  {
   "cell_type": "markdown",
   "id": "9f205af1",
   "metadata": {},
   "source": [
    "# Cálculo de la sensibilidad y especifidad por cada clase o las clases inferiores a ella"
   ]
  },
  {
   "cell_type": "code",
   "execution_count": 60,
   "id": "1e21fe64",
   "metadata": {},
   "outputs": [
    {
     "data": {
      "image/png": "[encoded data removed]",
      "text/plain": [
       "<Figure size 500x400 with 2 Axes>"
      ]
     },
     "metadata": {},
     "output_type": "display_data"
    },
    {
     "name": "stdout",
     "output_type": "stream",
     "text": [
      "Sensibilidad =  0.9934747145187602\n",
      "Especifidad =  0.3020833333333333\n",
      "VPP =  0.9864345009111156\n",
      "VPN =  0.47540983606557374\n"
     ]
    }
   ],
   "source": [
    "try:\n",
    "    sensibilidad_0_inf, especifidad_0_inf, VPP_0_inf, VPN_0_inf = sens_especif_mat_conf_por_clases_inferiores(AHI_real_disc, AHI_pred_disc, 0)\n",
    "    print(\"Sensibilidad = \", sensibilidad_0_inf)\n",
    "    print(\"Especifidad = \", especifidad_0_inf)\n",
    "    print(\"VPP = \", VPP_0_inf)\n",
    "    print(\"VPN = \", VPN_0_inf)\n",
    "except ZeroDivisionError:\n",
    "    pass"
   ]
  },
  {
   "cell_type": "code",
   "execution_count": 61,
   "id": "9e18ad6a",
   "metadata": {},
   "outputs": [
    {
     "data": {
      "image/png": "[encoded data removed]",
      "text/plain": [
       "<Figure size 500x400 with 2 Axes>"
      ]
     },
     "metadata": {},
     "output_type": "display_data"
    },
    {
     "name": "stdout",
     "output_type": "stream",
     "text": [
      "Sensibilidad =  0.9993973483326637\n",
      "Especifidad =  0.045454545454545456\n",
      "VPP =  0.9957966373098479\n",
      "VPN =  0.25\n"
     ]
    }
   ],
   "source": [
    "try:\n",
    "    sensibilidad_1_inf, especifidad_1_inf, VPP_1_inf, VPN_1_inf = sens_especif_mat_conf_por_clases_inferiores(AHI_real_disc, AHI_pred_disc, 1)\n",
    "    print(\"Sensibilidad = \", sensibilidad_1_inf)\n",
    "    print(\"Especifidad = \", especifidad_1_inf)\n",
    "    print(\"VPP = \", VPP_1_inf)\n",
    "    print(\"VPN = \", VPN_1_inf)\n",
    "except ZeroDivisionError:\n",
    "    pass"
   ]
  },
  {
   "cell_type": "code",
   "execution_count": 62,
   "id": "e443a0dc",
   "metadata": {},
   "outputs": [],
   "source": [
    "try:\n",
    "    sensibilidad_1_inf, especifidad_1_inf, VPP_1_inf, VPN_1_inf = sens_especif_mat_conf_por_clases_inferiores(AHI_real_disc, AHI_pred_disc, 2)\n",
    "    print(\"Sensibilidad = \", sensibilidad_1_inf)\n",
    "    print(\"Especifidad = \", especifidad_1_inf)\n",
    "    print(\"VPP = \", VPP_1_inf)\n",
    "    print(\"VPN = \", VPN_1_inf)\n",
    "except ZeroDivisionError:\n",
    "    pass"
   ]
  },
  {
   "cell_type": "code",
   "execution_count": 63,
   "id": "51211577",
   "metadata": {},
   "outputs": [
    {
     "data": {
      "image/png": "[encoded data removed]",
      "text/plain": [
       "<Figure size 500x400 with 2 Axes>"
      ]
     },
     "metadata": {},
     "output_type": "display_data"
    }
   ],
   "source": [
    "try:\n",
    "    best_cfmatrix_val = confusion_matrix(AHI_real_disc, AHI_pred_disc)\n",
    "    cf_mat_row = np.zeros((4,4))\n",
    "    for i in range(best_cfmatrix_val.shape[0]):\n",
    "        cf_mat_row[i,:] = best_cfmatrix_val[i]/sum(best_cfmatrix_val[i])\n",
    "    \n",
    "    group_counts = [\"{0:0.0f}\".format(value) for value in\n",
    "            best_cfmatrix_val.flatten()]\n",
    "\n",
    "    group_percentages = [\"{0:.2%}\".format(value) for value in\n",
    "                         cf_mat_row.flatten()]\n",
    "\n",
    "    labels = [f\"{v1}\\n{v2}\\n\" for v1, v2 in\n",
    "              zip(group_counts,group_percentages)]\n",
    "\n",
    "    labels = np.asarray(labels).reshape(4,4)\n",
    "\n",
    "    plt.rcdefaults()\n",
    "    sns.set(font_scale=1.4)\n",
    "    sns.set(rc = {'figure.figsize':(5,4)})\n",
    "\n",
    "    sns.heatmap(cf_mat_row, annot=labels, annot_kws={\"size\": 14}, fmt='',  cmap='Blues')\n",
    "\n",
    "    plt.title(\"\\n Matriz de confusión por clase\")\n",
    "    plt.xlabel(\"Estimado \\n \\n \\n\")\n",
    "    plt.ylabel(\"\\n \\n Real\")\n",
    "    plt.show()\n",
    "    plt.clf()\n",
    "    plt.close()\n",
    "except ValueError:\n",
    "    best_cfmatrix_val = confusion_matrix(AHI_real_disc, AHI_pred_disc)\n",
    "    cf_mat_row = np.zeros((3,3))\n",
    "    for i in range(best_cfmatrix_val.shape[0]):\n",
    "        cf_mat_row[i,:] = best_cfmatrix_val[i]/sum(best_cfmatrix_val[i])\n",
    "    \n",
    "    group_counts = [\"{0:0.0f}\".format(value) for value in\n",
    "            best_cfmatrix_val.flatten()]\n",
    "\n",
    "    group_percentages = [\"{0:.2%}\".format(value) for value in\n",
    "                         cf_mat_row.flatten()]\n",
    "\n",
    "    labels = [f\"{v1}\\n{v2}\\n\" for v1, v2 in\n",
    "              zip(group_counts,group_percentages)]\n",
    "\n",
    "    labels = np.asarray(labels).reshape(3,3)\n",
    "\n",
    "    plt.rcdefaults()\n",
    "    sns.set(font_scale=1.4)\n",
    "    sns.set(rc = {'figure.figsize':(5,4)})\n",
    "\n",
    "    sns.heatmap(cf_mat_row, annot=labels, annot_kws={\"size\": 14}, fmt='',  cmap='Blues')\n",
    "\n",
    "    plt.title(\"\\n Matriz de confusión por clase\")\n",
    "    plt.xlabel(\"Estimado \\n \\n \\n\")\n",
    "    plt.ylabel(\"\\n \\n Real\")\n",
    "    plt.show()\n",
    "    plt.clf()\n",
    "    plt.close()"
   ]
  },
  {
   "cell_type": "code",
   "execution_count": null,
   "id": "e8395bc8",
   "metadata": {},
   "outputs": [],
   "source": []
  },
  {
   "cell_type": "code",
   "execution_count": null,
   "id": "b38acf88",
   "metadata": {},
   "outputs": [],
   "source": []
  }
 ],
 "metadata": {
  "kernelspec": {
   "display_name": "Python 3 (ipykernel)",
   "language": "python",
   "name": "python3"
  },
  "language_info": {
   "codemirror_mode": {
    "name": "ipython",
    "version": 3
   },
   "file_extension": ".py",
   "mimetype": "text/x-python",
   "name": "python",
   "nbconvert_exporter": "python",
   "pygments_lexer": "ipython3",
   "version": "3.8.12"
  }
 },
 "nbformat": 4,
 "nbformat_minor": 5
}
